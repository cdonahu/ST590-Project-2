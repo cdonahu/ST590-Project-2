{
 "cells": [
  {
   "cell_type": "markdown",
   "id": "75bc46b3-5762-4260-ad17-f5b0557fb8a3",
   "metadata": {},
   "source": [
    "# Project 2: Part 3\n",
    "ST 590  \n",
    "Summer 2022  \n",
    "By Claudia Donahue and Collin Knezevich  "
   ]
  },
  {
   "cell_type": "markdown",
   "id": "83546a61-4fda-4f80-a0b5-0b3033732c02",
   "metadata": {},
   "source": [
    "For part 3, you’ll want to take the code you created for homework 4 and do similar things via spark. (This part should be very easy/short if you have spark up and running! You can use the spark SQL or pandas-on-spark functionality rather than writing your own MapReduce type code.) That is, you want to:  \n",
    "\n",
    "• read in the full nfl data set into spark a spark data frame or pandas-on-Spark data frame  \n",
    " "
   ]
  },
  {
   "cell_type": "code",
   "execution_count": 1,
   "id": "c064efe6-0b3c-4286-b8f8-3b69eabbe3a0",
   "metadata": {},
   "outputs": [
    {
     "name": "stderr",
     "output_type": "stream",
     "text": [
      "WARNING:root:'PYARROW_IGNORE_TIMEZONE' environment variable was not set. It is required to set this environment variable to '1' in both driver and executor sides if you use pyarrow>=2.0.0. pandas-on-Spark will set it for you but it does not work if there is a Spark context already launched.\n",
      "Setting default log level to \"WARN\".\n",
      "To adjust logging level use sc.setLogLevel(newLevel). For SparkR, use setLogLevel(newLevel).\n"
     ]
    },
    {
     "name": "stdout",
     "output_type": "stream",
     "text": [
      "22/06/26 16:23:06 WARN NativeCodeLoader: Unable to load native-hadoop library for your platform... using builtin-java classes where applicable\n"
     ]
    }
   ],
   "source": [
    "import pandas as pd\n",
    "import numpy as np\n",
    "import pyspark.pandas as ps\n",
    "from pyspark.sql import SparkSession\n",
    "import pyspark.sql.functions as func\n",
    "\n",
    "spark = SparkSession.builder.master('local[*]').appName('my_app').getOrCreate()\n",
    "\n",
    "data = spark.read.load(\"scoresFull.csv\",\n",
    "                     format=\"csv\", \n",
    "                     sep=\",\", \n",
    "                     inferSchema=\"true\", \n",
    "                     header=\"true\")"
   ]
  },
  {
   "cell_type": "markdown",
   "id": "4db01161-2342-4939-9cae-4a9c6c4639bf",
   "metadata": {},
   "source": [
    "• use spark SQL or pandas-on-Spark to find the mean and standard deviation for the AQ1, AQ2, AQ3, AQ4, AQFinal, HQ1, HQ2, HQ3, HQ4, and HFinal variables  "
   ]
  },
  {
   "cell_type": "code",
   "execution_count": 2,
   "id": "d91fb9e8-77c7-41a3-b74f-70f30926f637",
   "metadata": {},
   "outputs": [],
   "source": [
    "# select the desired columns and save them as a pyspark df\n",
    "df2 = data.select('AQ1','AQ2','AQ3','AQ4','AFinal','HQ1','HQ2','HQ3','HQ4','HFinal')"
   ]
  },
  {
   "cell_type": "code",
   "execution_count": 3,
   "id": "c0cbbb10-d187-4419-a792-3adab7c5c0c4",
   "metadata": {},
   "outputs": [
    {
     "name": "stdout",
     "output_type": "stream",
     "text": [
      "+---+---+---+---+------+---+---+---+---+------+\n",
      "|AQ1|AQ2|AQ3|AQ4|AFinal|HQ1|HQ2|HQ3|HQ4|HFinal|\n",
      "+---+---+---+---+------+---+---+---+---+------+\n",
      "|4.0|6.0|4.0|6.0|  21.0|5.0|7.0|5.0|6.0|  23.0|\n",
      "+---+---+---+---+------+---+---+---+---+------+\n",
      "\n"
     ]
    }
   ],
   "source": [
    "# Find the mean of each column\n",
    "df3 = df2.select(*[func.mean(c).alias(c) for c in df2.columns])\n",
    "\n",
    "df3 = df3.select(*[func.round(c).alias(c) for c in df3.columns])\n",
    "\n",
    "df3.show()"
   ]
  },
  {
   "cell_type": "code",
   "execution_count": 4,
   "id": "ebd3894d-ec79-4dd8-8804-e886522f5809",
   "metadata": {},
   "outputs": [
    {
     "name": "stdout",
     "output_type": "stream",
     "text": [
      "22/06/26 16:23:31 WARN package: Truncated the string representation of a plan since it was too large. This behavior can be adjusted by setting 'spark.sql.debug.maxToStringFields'.\n",
      "+---+---+---+---+------+---+---+---+---+------+\n",
      "|AQ1|AQ2|AQ3|AQ4|AFinal|HQ1|HQ2|HQ3|HQ4|HFinal|\n",
      "+---+---+---+---+------+---+---+---+---+------+\n",
      "|4.0|5.0|5.0|5.0|  10.0|5.0|6.0|5.0|5.0|  10.0|\n",
      "+---+---+---+---+------+---+---+---+---+------+\n",
      "\n"
     ]
    }
   ],
   "source": [
    "# Find the std of each column\n",
    "df4 = df2.select(*[func.stddev(c).alias(c) for c in df2.columns])\n",
    "\n",
    "df4 = df4.select(*[func.round(c).alias(c) for c in df4.columns])\n",
    "\n",
    "df4.show()"
   ]
  },
  {
   "cell_type": "markdown",
   "id": "49b16182-8878-4eb1-ac7b-738d39f9a287",
   "metadata": {},
   "source": [
    "• repeat the above process but do so for each value of the season variable  "
   ]
  },
  {
   "cell_type": "code",
   "execution_count": 5,
   "id": "09d0d019-4a08-43bd-89b0-a3dc729e5209",
   "metadata": {},
   "outputs": [
    {
     "name": "stdout",
     "output_type": "stream",
     "text": [
      "+------+--------+--------+--------+--------+-----------+--------+--------+--------+--------+-----------+\n",
      "|season|avg(AQ1)|avg(AQ2)|avg(AQ3)|avg(AQ4)|avg(AFinal)|avg(HQ1)|avg(HQ2)|avg(HQ3)|avg(HQ4)|avg(HFinal)|\n",
      "+------+--------+--------+--------+--------+-----------+--------+--------+--------+--------+-----------+\n",
      "|  2002|     4.0|     6.0|     4.0|     6.0|       21.0|     4.0|     7.0|     5.0|     6.0|       23.0|\n",
      "|  2003|     4.0|     6.0|     4.0|     5.0|       19.0|     5.0|     7.0|     5.0|     6.0|       23.0|\n",
      "|  2004|     4.0|     6.0|     4.0|     6.0|       20.0|     5.0|     7.0|     4.0|     7.0|       23.0|\n",
      "|  2005|     4.0|     6.0|     4.0|     5.0|       19.0|     4.0|     7.0|     5.0|     6.0|       22.0|\n",
      "|  2006|     4.0|     6.0|     4.0|     6.0|       20.0|     5.0|     6.0|     5.0|     6.0|       21.0|\n",
      "|  2007|     4.0|     6.0|     4.0|     6.0|       20.0|     5.0|     7.0|     5.0|     6.0|       23.0|\n",
      "|  2008|     4.0|     6.0|     4.0|     6.0|       21.0|     5.0|     7.0|     5.0|     6.0|       23.0|\n",
      "|  2009|     4.0|     6.0|     4.0|     6.0|       20.0|     5.0|     8.0|     4.0|     6.0|       23.0|\n",
      "|  2010|     4.0|     7.0|     5.0|     6.0|       21.0|     5.0|     7.0|     5.0|     7.0|       23.0|\n",
      "|  2011|     4.0|     6.0|     5.0|     6.0|       21.0|     5.0|     7.0|     5.0|     6.0|       24.0|\n",
      "|  2012|     4.0|     6.0|     5.0|     6.0|       22.0|     5.0|     7.0|     5.0|     7.0|       24.0|\n",
      "|  2013|     4.0|     7.0|     5.0|     6.0|       22.0|     5.0|     7.0|     5.0|     7.0|       25.0|\n",
      "|  2014|     4.0|     6.0|     5.0|     6.0|       21.0|     5.0|     7.0|     5.0|     6.0|       24.0|\n",
      "+------+--------+--------+--------+--------+-----------+--------+--------+--------+--------+-----------+\n",
      "\n"
     ]
    }
   ],
   "source": [
    "# select the desired columns and save them as a pyspark df\n",
    "df1 = data.select('season','AQ1','AQ2','AQ3','AQ4','AFinal','HQ1','HQ2','HQ3','HQ4','HFinal')\n",
    "\n",
    "# group by season and calculate mean for each column/row\n",
    "df1 = df1.groupBy(\"season\").mean()\n",
    "\n",
    "# drop the column for average of the 'season' \n",
    "df1 = df1.drop('avg(season)')\n",
    "\n",
    "# round all columns\n",
    "df6 = df1.select(*[func.round(c).alias(c) for c in df1.columns])\n",
    "\n",
    "# Sort by the season/year\n",
    "df6.sort('season').show()"
   ]
  },
  {
   "cell_type": "code",
   "execution_count": 58,
   "id": "1bf17a6d-dc4f-41dd-a56a-d472f1ae3f3d",
   "metadata": {},
   "outputs": [
    {
     "name": "stdout",
     "output_type": "stream",
     "text": [
      "+-----------+-----------+-----------+-----------+--------------+-----------+-----------+-----------+-----------+------+--------------+\n",
      "|stddev(AQ1)|stddev(AQ2)|stddev(AQ3)|stddev(AQ4)|stddev(AFinal)|stddev(HQ1)|stddev(HQ2)|stddev(HQ3)|stddev(HQ4)|season|stddev(HFinal)|\n",
      "+-----------+-----------+-----------+-----------+--------------+-----------+-----------+-----------+-----------+------+--------------+\n",
      "|        4.0|        5.0|        5.0|        5.0|          10.0|        5.0|        6.0|        5.0|        5.0|  2002|          10.0|\n",
      "|        4.0|        5.0|        4.0|        5.0|          10.0|        5.0|        5.0|        5.0|        5.0|  2003|          10.0|\n",
      "|        5.0|        5.0|        5.0|        5.0|          10.0|        5.0|        6.0|        5.0|        5.0|  2004|          10.0|\n",
      "|        5.0|        5.0|        4.0|        5.0|          10.0|        5.0|        6.0|        4.0|        5.0|  2005|          10.0|\n",
      "|        4.0|        5.0|        5.0|        6.0|          10.0|        5.0|        5.0|        5.0|        5.0|  2006|          10.0|\n",
      "|        4.0|        5.0|        5.0|        5.0|          11.0|        5.0|        6.0|        4.0|        6.0|  2007|          11.0|\n",
      "|        4.0|        5.0|        4.0|        5.0|          10.0|        5.0|        6.0|        5.0|        5.0|  2008|          10.0|\n",
      "|        5.0|        5.0|        5.0|        6.0|          11.0|        5.0|        6.0|        5.0|        5.0|  2009|          11.0|\n",
      "|        5.0|        5.0|        5.0|        5.0|          10.0|        4.0|        5.0|        5.0|        6.0|  2010|          10.0|\n",
      "|        4.0|        5.0|        5.0|        5.0|          10.0|        5.0|        6.0|        5.0|        5.0|  2011|          11.0|\n",
      "|        5.0|        5.0|        5.0|        5.0|          10.0|        5.0|        5.0|        5.0|        6.0|  2012|          11.0|\n",
      "|        4.0|        5.0|        5.0|        5.0|          10.0|        5.0|        6.0|        5.0|        6.0|  2013|          11.0|\n",
      "|        5.0|        5.0|        5.0|        5.0|          10.0|        5.0|        6.0|        5.0|        5.0|  2014|          11.0|\n",
      "+-----------+-----------+-----------+-----------+--------------+-----------+-----------+-----------+-----------+------+--------------+\n",
      "\n"
     ]
    }
   ],
   "source": [
    "# Same for stdev\n",
    "\n",
    "from pyspark.sql import DataFrame\n",
    "\n",
    "# select the desired columns and save them as a pyspark df\n",
    "df1 = data.select('season','AQ1','AQ2','AQ3','AQ4','AFinal','HQ1','HQ2','HQ3','HQ4','HFinal')\n",
    "\n",
    "# group by season and calculate stdev for each column\n",
    "df7 = df1.groupby(\"season\")\n",
    "\n",
    "# calculating standard deviations and merging data frames together \n",
    "# (.agg function only takes in one argument at a time)\n",
    "aq1 = df7.agg({'AQ1':'std'})\n",
    "aq2 = df7.agg({'AQ2':'std'})\n",
    "aq3 = df7.agg({'AQ3':'std'}) \n",
    "aq4 = df7.agg({'AQ4':'std'}) \n",
    "afinal = df7.agg({'AFinal':'std'}) \n",
    "hq1 = df7.agg({'HQ1':'std'}) \n",
    "hq2 = df7.agg({'HQ2':'std'}) \n",
    "hq3 = df7.agg({'HQ3':'std'}) \n",
    "hq4 = df7.agg({'HQ4':'std'}) \n",
    "hfinal = df7.agg({'HFinal':'std'}) \n",
    "\n",
    "# merging data frames together\n",
    "aq2 = aq1.join(aq2, aq1.season == aq2.season, \"inner\").drop(aq1.season)\n",
    "aq3 = aq2.join(aq3, aq2.season == aq3.season, \"inner\").drop(aq2.season) \n",
    "aq4 = aq3.join(aq4, aq3.season == aq4.season, \"inner\").drop(aq3.season) \n",
    "afinal = aq4.join(afinal, aq4.season == afinal.season, \"inner\").drop(aq4.season)\n",
    "hq1 = afinal.join(hq1, afinal.season == hq1.season, \"inner\").drop(afinal.season) \n",
    "hq2 = hq1.join(hq2, hq1.season == hq2.season, \"inner\").drop(hq1.season) \n",
    "hq3 = hq2.join(hq3, hq2.season == hq3.season, \"inner\").drop(hq2.season) \n",
    "hq4 = hq3.join(hq4, hq3.season == hq4.season, \"inner\").drop(hq3.season) \n",
    "hfinal = hq4.join(hfinal, hq4.season == hfinal.season, \"inner\").drop(hq4.season) \n",
    "\n",
    "# rounding \n",
    "df8 = hfinal.select(*[func.round(c).alias(c) for c in hfinal.columns]) \n",
    "\n",
    "# sort by season \n",
    "df8.sort('season').show()"
   ]
  },
  {
   "cell_type": "markdown",
   "id": "da2e4630-d9f7-4afe-83d5-c7b6d2af3784",
   "metadata": {},
   "source": [
    "• convert the resulting means from the previous part to a pandas data frame (not spark) and plot the means for the ‘quarter’ variables across season (that is, put season on the x-axis, mean of AQ1, AQ2, . . . , HQ4 on the y-axis, using different colors for each line with a legend)  "
   ]
  },
  {
   "cell_type": "code",
   "execution_count": 60,
   "id": "8cf92e85-a7c4-48f1-be11-04b07ce608ec",
   "metadata": {},
   "outputs": [
    {
     "data": {
      "text/html": [
       "<div>\n",
       "<style scoped>\n",
       "    .dataframe tbody tr th:only-of-type {\n",
       "        vertical-align: middle;\n",
       "    }\n",
       "\n",
       "    .dataframe tbody tr th {\n",
       "        vertical-align: top;\n",
       "    }\n",
       "\n",
       "    .dataframe thead th {\n",
       "        text-align: right;\n",
       "    }\n",
       "</style>\n",
       "<table border=\"1\" class=\"dataframe\">\n",
       "  <thead>\n",
       "    <tr style=\"text-align: right;\">\n",
       "      <th></th>\n",
       "      <th>season</th>\n",
       "      <th>avg(AQ1)</th>\n",
       "      <th>avg(AQ2)</th>\n",
       "      <th>avg(AQ3)</th>\n",
       "      <th>avg(AQ4)</th>\n",
       "      <th>avg(HQ1)</th>\n",
       "      <th>avg(HQ2)</th>\n",
       "      <th>avg(HQ3)</th>\n",
       "      <th>avg(HQ4)</th>\n",
       "    </tr>\n",
       "  </thead>\n",
       "  <tbody>\n",
       "    <tr>\n",
       "      <th>0</th>\n",
       "      <td>2002</td>\n",
       "      <td>4.0</td>\n",
       "      <td>6.0</td>\n",
       "      <td>4.0</td>\n",
       "      <td>6.0</td>\n",
       "      <td>4.0</td>\n",
       "      <td>7.0</td>\n",
       "      <td>5.0</td>\n",
       "      <td>6.0</td>\n",
       "    </tr>\n",
       "    <tr>\n",
       "      <th>1</th>\n",
       "      <td>2003</td>\n",
       "      <td>4.0</td>\n",
       "      <td>6.0</td>\n",
       "      <td>4.0</td>\n",
       "      <td>5.0</td>\n",
       "      <td>5.0</td>\n",
       "      <td>7.0</td>\n",
       "      <td>5.0</td>\n",
       "      <td>6.0</td>\n",
       "    </tr>\n",
       "    <tr>\n",
       "      <th>2</th>\n",
       "      <td>2004</td>\n",
       "      <td>4.0</td>\n",
       "      <td>6.0</td>\n",
       "      <td>4.0</td>\n",
       "      <td>6.0</td>\n",
       "      <td>5.0</td>\n",
       "      <td>7.0</td>\n",
       "      <td>4.0</td>\n",
       "      <td>7.0</td>\n",
       "    </tr>\n",
       "    <tr>\n",
       "      <th>3</th>\n",
       "      <td>2005</td>\n",
       "      <td>4.0</td>\n",
       "      <td>6.0</td>\n",
       "      <td>4.0</td>\n",
       "      <td>5.0</td>\n",
       "      <td>4.0</td>\n",
       "      <td>7.0</td>\n",
       "      <td>5.0</td>\n",
       "      <td>6.0</td>\n",
       "    </tr>\n",
       "    <tr>\n",
       "      <th>4</th>\n",
       "      <td>2006</td>\n",
       "      <td>4.0</td>\n",
       "      <td>6.0</td>\n",
       "      <td>4.0</td>\n",
       "      <td>6.0</td>\n",
       "      <td>5.0</td>\n",
       "      <td>6.0</td>\n",
       "      <td>5.0</td>\n",
       "      <td>6.0</td>\n",
       "    </tr>\n",
       "    <tr>\n",
       "      <th>5</th>\n",
       "      <td>2007</td>\n",
       "      <td>4.0</td>\n",
       "      <td>6.0</td>\n",
       "      <td>4.0</td>\n",
       "      <td>6.0</td>\n",
       "      <td>5.0</td>\n",
       "      <td>7.0</td>\n",
       "      <td>5.0</td>\n",
       "      <td>6.0</td>\n",
       "    </tr>\n",
       "    <tr>\n",
       "      <th>6</th>\n",
       "      <td>2008</td>\n",
       "      <td>4.0</td>\n",
       "      <td>6.0</td>\n",
       "      <td>4.0</td>\n",
       "      <td>6.0</td>\n",
       "      <td>5.0</td>\n",
       "      <td>7.0</td>\n",
       "      <td>5.0</td>\n",
       "      <td>6.0</td>\n",
       "    </tr>\n",
       "    <tr>\n",
       "      <th>7</th>\n",
       "      <td>2009</td>\n",
       "      <td>4.0</td>\n",
       "      <td>6.0</td>\n",
       "      <td>4.0</td>\n",
       "      <td>6.0</td>\n",
       "      <td>5.0</td>\n",
       "      <td>8.0</td>\n",
       "      <td>4.0</td>\n",
       "      <td>6.0</td>\n",
       "    </tr>\n",
       "    <tr>\n",
       "      <th>8</th>\n",
       "      <td>2010</td>\n",
       "      <td>4.0</td>\n",
       "      <td>7.0</td>\n",
       "      <td>5.0</td>\n",
       "      <td>6.0</td>\n",
       "      <td>5.0</td>\n",
       "      <td>7.0</td>\n",
       "      <td>5.0</td>\n",
       "      <td>7.0</td>\n",
       "    </tr>\n",
       "    <tr>\n",
       "      <th>9</th>\n",
       "      <td>2011</td>\n",
       "      <td>4.0</td>\n",
       "      <td>6.0</td>\n",
       "      <td>5.0</td>\n",
       "      <td>6.0</td>\n",
       "      <td>5.0</td>\n",
       "      <td>7.0</td>\n",
       "      <td>5.0</td>\n",
       "      <td>6.0</td>\n",
       "    </tr>\n",
       "    <tr>\n",
       "      <th>10</th>\n",
       "      <td>2012</td>\n",
       "      <td>4.0</td>\n",
       "      <td>6.0</td>\n",
       "      <td>5.0</td>\n",
       "      <td>6.0</td>\n",
       "      <td>5.0</td>\n",
       "      <td>7.0</td>\n",
       "      <td>5.0</td>\n",
       "      <td>7.0</td>\n",
       "    </tr>\n",
       "    <tr>\n",
       "      <th>11</th>\n",
       "      <td>2013</td>\n",
       "      <td>4.0</td>\n",
       "      <td>7.0</td>\n",
       "      <td>5.0</td>\n",
       "      <td>6.0</td>\n",
       "      <td>5.0</td>\n",
       "      <td>7.0</td>\n",
       "      <td>5.0</td>\n",
       "      <td>7.0</td>\n",
       "    </tr>\n",
       "    <tr>\n",
       "      <th>12</th>\n",
       "      <td>2014</td>\n",
       "      <td>4.0</td>\n",
       "      <td>6.0</td>\n",
       "      <td>5.0</td>\n",
       "      <td>6.0</td>\n",
       "      <td>5.0</td>\n",
       "      <td>7.0</td>\n",
       "      <td>5.0</td>\n",
       "      <td>6.0</td>\n",
       "    </tr>\n",
       "  </tbody>\n",
       "</table>\n",
       "</div>"
      ],
      "text/plain": [
       "    season  avg(AQ1)  avg(AQ2)  avg(AQ3)  avg(AQ4)  avg(HQ1)  avg(HQ2)  \\\n",
       "0     2002       4.0       6.0       4.0       6.0       4.0       7.0   \n",
       "1     2003       4.0       6.0       4.0       5.0       5.0       7.0   \n",
       "2     2004       4.0       6.0       4.0       6.0       5.0       7.0   \n",
       "3     2005       4.0       6.0       4.0       5.0       4.0       7.0   \n",
       "4     2006       4.0       6.0       4.0       6.0       5.0       6.0   \n",
       "5     2007       4.0       6.0       4.0       6.0       5.0       7.0   \n",
       "6     2008       4.0       6.0       4.0       6.0       5.0       7.0   \n",
       "7     2009       4.0       6.0       4.0       6.0       5.0       8.0   \n",
       "8     2010       4.0       7.0       5.0       6.0       5.0       7.0   \n",
       "9     2011       4.0       6.0       5.0       6.0       5.0       7.0   \n",
       "10    2012       4.0       6.0       5.0       6.0       5.0       7.0   \n",
       "11    2013       4.0       7.0       5.0       6.0       5.0       7.0   \n",
       "12    2014       4.0       6.0       5.0       6.0       5.0       7.0   \n",
       "\n",
       "    avg(HQ3)  avg(HQ4)  \n",
       "0        5.0       6.0  \n",
       "1        5.0       6.0  \n",
       "2        4.0       7.0  \n",
       "3        5.0       6.0  \n",
       "4        5.0       6.0  \n",
       "5        5.0       6.0  \n",
       "6        5.0       6.0  \n",
       "7        4.0       6.0  \n",
       "8        5.0       7.0  \n",
       "9        5.0       6.0  \n",
       "10       5.0       7.0  \n",
       "11       5.0       7.0  \n",
       "12       5.0       6.0  "
      ]
     },
     "execution_count": 60,
     "metadata": {},
     "output_type": "execute_result"
    }
   ],
   "source": [
    "# converting to pandas df\n",
    "means = df6.sort('season').toPandas()\n",
    "\n",
    "# we are only considering the 'quarter' variables for this analysis - we will drop AFinal and HFinal columns\n",
    "means = means.drop(['avg(AFinal)', 'avg(HFinal)'], axis = 1) \n",
    "means"
   ]
  },
  {
   "cell_type": "markdown",
   "id": "1cb1db6b-15b1-4e9a-96da-df37c321bc8f",
   "metadata": {},
   "source": [
    "Now, we will create a line chart of the means of these quarter variables across seasons. "
   ]
  },
  {
   "cell_type": "code",
   "execution_count": 74,
   "id": "2562b755-f3af-488b-a711-300bc86af31a",
   "metadata": {},
   "outputs": [
    {
     "data": {
      "image/png": "[encoded data removed]",
      "text/plain": [
       "<Figure size 864x576 with 1 Axes>"
      ]
     },
     "metadata": {
      "needs_background": "light"
     },
     "output_type": "display_data"
    }
   ],
   "source": [
    "import matplotlib.pyplot as plt \n",
    "\n",
    "# creating line chart \n",
    "means.plot.line(x = 'season', figsize = (12, 8))\n",
    "plt.title(\"Average Points by Quarter, across Seasons\") \n",
    "plt.legend(bbox_to_anchor = (1.05, 1.1)) \n",
    "plt.ylabel(\"Average Points Scored\") \n",
    "plt.show() \n",
    "plt.close()"
   ]
  },
  {
   "cell_type": "markdown",
   "id": "73e14e0a-8b0c-48b1-8a0b-47194784412a",
   "metadata": {},
   "source": [
    "Average scores in quarters leading into halftime or the end of a game (Q2, Q4) appear to be consistently higher than other quarters (Q1, Q3). The lowest 4 lines correspond to quarters 1 and 3 for away and home teams. \n",
    "\n",
    "Additionally, it appears that home teams tend to score more on average than away teams. "
   ]
  },
  {
   "cell_type": "code",
   "execution_count": null,
   "id": "cd494753-91cc-49b0-98c2-a06ce6485157",
   "metadata": {},
   "outputs": [],
   "source": []
  }
 ],
 "metadata": {
  "kernelspec": {
   "display_name": "Python 3 (ipykernel)",
   "language": "python",
   "name": "python3"
  },
  "language_info": {
   "codemirror_mode": {
    "name": "ipython",
    "version": 3
   },
   "file_extension": ".py",
   "mimetype": "text/x-python",
   "name": "python",
   "nbconvert_exporter": "python",
   "pygments_lexer": "ipython3",
   "version": "3.10.1"
  }
 },
 "nbformat": 4,
 "nbformat_minor": 5
}
