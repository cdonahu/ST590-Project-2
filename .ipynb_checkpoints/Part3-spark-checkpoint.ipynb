{
 "cells": [
  {
   "cell_type": "markdown",
   "id": "75bc46b3-5762-4260-ad17-f5b0557fb8a3",
   "metadata": {},
   "source": [
    "# Project 2: Part 3\n",
    "ST 590  \n",
    "Summer 2022  \n",
    "By Claudia Donahue and Collin Knezevich  "
   ]
  },
  {
   "cell_type": "markdown",
   "id": "83546a61-4fda-4f80-a0b5-0b3033732c02",
   "metadata": {},
   "source": [
    "For part 3, you’ll want to take the code you created for homework 4 and do similar things via spark. (This part should be very easy/short if you have spark up and running! You can use the spark SQL or pandas-on-spark functionality rather than writing your own MapReduce type code.) That is, you want to:  \n",
    "\n",
    "• read in the full nfl data set into spark a spark data frame or pandas-on-Spark data frame  \n",
    "• use spark SQL or pandas-on-Spark to find the mean and standard deviation for the AQ1, AQ2, AQ3, AQ4, AQFinal, HQ1, HQ2, HQ3, HQ4, and HFinal variables  \n",
    "• repeat the above process but do so for each value of the season variable  \n",
    "• convert the resulting means from the previous part to a pandas data frame (not spark) and plot the means for the ‘quarter’ variables across season (that is, put season on the x-axis, mean of AQ1, AQ2, . . . , HQ4 on the y-axis, using different colors for each line with a legend)  \n",
    "• As always, you should have a basic narrative flowing through what you are doing and an interpretation of any stats/graphs created.  "
   ]
  },
  {
   "cell_type": "code",
   "execution_count": null,
   "id": "c064efe6-0b3c-4286-b8f8-3b69eabbe3a0",
   "metadata": {},
   "outputs": [],
   "source": []
  }
 ],
 "metadata": {
  "kernelspec": {
   "display_name": "Python 3 (ipykernel)",
   "language": "python",
   "name": "python3"
  },
  "language_info": {
   "codemirror_mode": {
    "name": "ipython",
    "version": 3
   },
   "file_extension": ".py",
   "mimetype": "text/x-python",
   "name": "python",
   "nbconvert_exporter": "python",
   "pygments_lexer": "ipython3",
   "version": "3.8.8"
  }
 },
 "nbformat": 4,
 "nbformat_minor": 5
}
