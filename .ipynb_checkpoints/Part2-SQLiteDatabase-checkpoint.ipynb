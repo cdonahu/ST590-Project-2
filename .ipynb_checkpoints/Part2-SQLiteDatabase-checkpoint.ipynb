{
 "cells": [
  {
   "cell_type": "markdown",
   "id": "7003d3a5-2982-4749-93b2-56e3f6450b28",
   "metadata": {},
   "source": [
    "# Project 2: Part 2\n",
    "ST 590  \n",
    "Summer 2022  \n",
    "By Claudia Donahue and Collin Knezevich  "
   ]
  },
  {
   "cell_type": "markdown",
   "id": "b83e1f6f-668b-4497-a340-6a6709c1a978",
   "metadata": {},
   "source": [
    "Use the sqlite database called northwind.sqlite. This database originally\n",
    "comes from https://github.com/jpwhite3/northwind-SQLite3 but has been modified.\n",
    "Your task is to write up a report about the employees. That is, you want to understand how much they sell,what products they are able to sell, how they’ve done across years, how they do in different regions, etc.  \n",
    "\n",
    "You’ll want to study the database tables a bit to get an idea about the things you could investigate.  \n",
    "\n",
    "You should provide summary statistics and graphs with corresponding interpretation. In the end, for each employee you should describe their main strength and something they can improve upon (backed up by your summary stats and graphs of course). Feel free to use SQL through pandas here to obtain the tables. You can do the joins, summaries, etc. through pandas if you’d like."
   ]
  },
  {
   "cell_type": "code",
   "execution_count": null,
   "id": "e8c3b670-160c-4c3c-9300-1ca8e44abaa1",
   "metadata": {},
   "outputs": [],
   "source": []
  }
 ],
 "metadata": {
  "kernelspec": {
   "display_name": "Python 3 (ipykernel)",
   "language": "python",
   "name": "python3"
  },
  "language_info": {
   "codemirror_mode": {
    "name": "ipython",
    "version": 3
   },
   "file_extension": ".py",
   "mimetype": "text/x-python",
   "name": "python",
   "nbconvert_exporter": "python",
   "pygments_lexer": "ipython3",
   "version": "3.8.8"
  }
 },
 "nbformat": 4,
 "nbformat_minor": 5
}
